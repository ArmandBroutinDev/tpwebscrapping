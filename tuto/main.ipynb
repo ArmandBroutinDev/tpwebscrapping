{
 "cells": [
  {
   "cell_type": "markdown",
   "metadata": {},
   "source": [
    "## exercice web scrapping\n",
    "etape 1"
   ]
  },
  {
   "cell_type": "code",
   "execution_count": 1,
   "metadata": {},
   "outputs": [],
   "source": [
    "import requests\n",
    " \n",
    "url = \"https://fr.wikipedia.org/wiki/Championnat_de_France_de_football_2019-2020\"\n",
    "request_text = requests.get(url)\n"
   ]
  },
  {
   "cell_type": "markdown",
   "metadata": {},
   "source": [
    "etape 2"
   ]
  },
  {
   "cell_type": "code",
   "execution_count": 5,
   "metadata": {},
   "outputs": [],
   "source": [
    "from bs4 import BeautifulSoup\n",
    "\n",
    "soup = BeautifulSoup(request_text.content,\"lxml\")"
   ]
  },
  {
   "cell_type": "markdown",
   "metadata": {},
   "source": [
    "etape 3"
   ]
  },
  {
   "cell_type": "code",
   "execution_count": 14,
   "metadata": {},
   "outputs": [
    {
     "name": "stdout",
     "output_type": "stream",
     "text": [
      "34\n"
     ]
    }
   ],
   "source": [
    "tables = soup.findAll('table')\n",
    "print(len(tables))"
   ]
  },
  {
   "cell_type": "markdown",
   "metadata": {},
   "source": [
    "etape 4"
   ]
  },
  {
   "cell_type": "code",
   "execution_count": 20,
   "metadata": {},
   "outputs": [
    {
     "name": "stdout",
     "output_type": "stream",
     "text": [
      "[<table><caption style=\"background:#99cc99;color:#000000;\">Généralités</caption><tbody><tr>\n",
      "<th scope=\"row\" style=\"width:10.5em;\">Sport</th>\n",
      "<td>\n",
      "<a href=\"/wiki/Football\" title=\"Football\">Football</a></td>\n",
      "</tr>\n",
      "<tr>\n",
      "<th scope=\"row\" style=\"width:10.5em;\">Organisateur(s)</th>\n",
      "<td>\n",
      "<a href=\"/wiki/Ligue_de_football_professionnel\" title=\"Ligue de football professionnel\">LFP</a></td>\n",
      "</tr>\n",
      "<tr>\n",
      "<th scope=\"row\" style=\"width:10.5em;\">Édition</th>\n",
      "<td>\n",
      "<abbr class=\"abbr\" title=\"Quatre-vingt-deuxième (huitante-deuxième / octante-deuxième)\">82<sup>e</sup></abbr></td>\n",
      "</tr>\n",
      "<tr>\n",
      "<th scope=\"row\" style=\"width:10.5em;\">Lieu(x)</th>\n",
      "<td>\n",
      "<span class=\"datasortkey\" data-sort-value=\"France\"><span class=\"flagicon\"><a class=\"image\" href=\"/wiki/Fichier:Flag_of_France.svg\" title=\"Drapeau de la France\"><img alt=\"Drapeau de la France\" class=\"noviewer thumbborder\" data-file-height=\"600\" data-file-width=\"900\" decoding=\"async\" height=\"13\" src=\"//upload.wikimedia.org/wikipedia/commons/thumb/c/c3/Flag_of_France.svg/20px-Flag_of_France.svg.png\" srcset=\"//upload.wikimedia.org/wikipedia/commons/thumb/c/c3/Flag_of_France.svg/30px-Flag_of_France.svg.png 1.5x, //upload.wikimedia.org/wikipedia/commons/thumb/c/c3/Flag_of_France.svg/40px-Flag_of_France.svg.png 2x\" width=\"20\"/></a> </span><a href=\"/wiki/France\" title=\"France\">France</a></span> et <br/><span class=\"datasortkey\" data-sort-value=\"Monaco\"><span class=\"flagicon\"><a class=\"image\" href=\"/wiki/Fichier:Flag_of_Monaco.svg\" title=\"Drapeau de Monaco\"><img alt=\"Drapeau de Monaco\" class=\"noviewer thumbborder\" data-file-height=\"800\" data-file-width=\"1000\" decoding=\"async\" height=\"16\" src=\"//upload.wikimedia.org/wikipedia/commons/thumb/e/ea/Flag_of_Monaco.svg/20px-Flag_of_Monaco.svg.png\" srcset=\"//upload.wikimedia.org/wikipedia/commons/thumb/e/ea/Flag_of_Monaco.svg/30px-Flag_of_Monaco.svg.png 1.5x, //upload.wikimedia.org/wikipedia/commons/thumb/e/ea/Flag_of_Monaco.svg/40px-Flag_of_Monaco.svg.png 2x\" width=\"20\"/></a> </span><a href=\"/wiki/Monaco\" title=\"Monaco\">Monaco</a></span></td>\n",
      "</tr>\n",
      "<tr>\n",
      "<th scope=\"row\" style=\"width:10.5em;\">Date</th>\n",
      "<td>\n",
      "Du <time class=\"nowrap date-lien\" data-sort-value=\"2019-08-09\" datetime=\"2019-08-09\"><a href=\"/wiki/9_ao%C3%BBt_en_sport\" title=\"9 août en sport\">9</a> <a class=\"mw-redirect\" href=\"/wiki/Ao%C3%BBt_2019_en_sport\" title=\"Août 2019 en sport\">août</a> <a href=\"/wiki/2019_en_football\" title=\"2019 en football\">2019</a></time><br/>au <time class=\"nowrap date-lien\" data-sort-value=\"2020-03-08\" datetime=\"2020-03-08\"><a href=\"/wiki/8_mars_en_sport\" title=\"8 mars en sport\">8 mars</a> <a href=\"/wiki/2020_en_football\" title=\"2020 en football\">2020</a></time> <small>(arrêt définitif)</small></td>\n",
      "</tr>\n",
      "<tr>\n",
      "<th scope=\"row\" style=\"width:10.5em;\">Participants</th>\n",
      "<td>\n",
      "20 équipes</td>\n",
      "</tr>\n",
      "<tr>\n",
      "<th scope=\"row\" style=\"width:10.5em;\">Matchs joués</th>\n",
      "<td>\n",
      "279 (sur 380 prévus)</td>\n",
      "</tr>\n",
      "<tr>\n",
      "<th scope=\"row\" style=\"width:10.5em;\">Site web officiel</th>\n",
      "<td>\n",
      "<a class=\"external text\" href=\"https://www.ligue1.fr/\" rel=\"nofollow\">Site officiel</a></td>\n",
      "</tr></tbody></table>, <table><caption style=\"background:#99cc99;color:#000000;\">Hiérarchie</caption><tbody><tr>\n",
      "<th scope=\"row\" style=\"width:10.5em;\">Hiérarchie</th>\n",
      "<td>\n",
      "<abbr class=\"abbr\" title=\"Premier\">1<sup>er</sup></abbr> échelon</td>\n",
      "</tr>\n",
      "<tr>\n",
      "<th scope=\"row\" style=\"width:10.5em;\">Niveau inférieur</th>\n",
      "<td>\n",
      "<a class=\"mw-redirect\" href=\"/wiki/Championnat_de_France_de_football_de_Ligue_2_2019-2020\" title=\"Championnat de France de football de Ligue 2 2019-2020\">Ligue 2 2019-2020</a></td>\n",
      "</tr></tbody></table>]\n"
     ]
    }
   ],
   "source": [
    "print(tables[:2])"
   ]
  },
  {
   "cell_type": "markdown",
   "metadata": {},
   "source": [
    "etape 5\n",
    "*shrugs*"
   ]
  },
  {
   "cell_type": "markdown",
   "metadata": {},
   "source": [
    "etape 6"
   ]
  },
  {
   "cell_type": "code",
   "execution_count": 51,
   "metadata": {},
   "outputs": [
    {
     "name": "stdout",
     "output_type": "stream",
     "text": [
      "<a class=\"image\" href=\"/wiki/Fichier:France_location_map-Regions-2016.svg\"><img alt=\"France location map-Regions-2016.svg\" data-file-height=\"1922\" data-file-width=\"2000\" decoding=\"async\" height=\"288\" src=\"//upload.wikimedia.org/wikipedia/commons/thumb/b/b1/France_location_map-Regions-2016.svg/300px-France_location_map-Regions-2016.svg.png\" srcset=\"//upload.wikimedia.org/wikipedia/commons/thumb/b/b1/France_location_map-Regions-2016.svg/450px-France_location_map-Regions-2016.svg.png 1.5x, //upload.wikimedia.org/wikipedia/commons/thumb/b/b1/France_location_map-Regions-2016.svg/600px-France_location_map-Regions-2016.svg.png 2x\" width=\"300\"/></a>\n",
      "-----\n",
      "<a href=\"/wiki/Paris_Saint-Germain_Football_Club\" title=\"Paris Saint-Germain Football Club\">Paris SG</a>\n",
      "-----\n",
      "<a href=\"/wiki/LOSC_Lille\" title=\"LOSC Lille\">LOSC Lille</a>\n",
      "-----\n",
      "<a href=\"/wiki/Olympique_lyonnais\" title=\"Olympique lyonnais\">Olympique lyonnais</a>\n",
      "-----\n",
      "<a href=\"/wiki/Association_sportive_de_Saint-%C3%89tienne\" title=\"Association sportive de Saint-Étienne\">AS Saint-Étienne</a>\n",
      "-----\n"
     ]
    }
   ],
   "source": [
    "equipes = soup.find('table',class_='DebutCarte').findAll('a',limit=5)\n",
    "for equipe in equipes :\n",
    "    print (equipe)\n",
    "    print ('-----')"
   ]
  },
  {
   "cell_type": "markdown",
   "metadata": {},
   "source": [
    "etape 6bis"
   ]
  },
  {
   "cell_type": "code",
   "execution_count": 53,
   "metadata": {},
   "outputs": [
    {
     "name": "stdout",
     "output_type": "stream",
     "text": [
      "<a href=\"/wiki/Paris_Saint-Germain_Football_Club\" title=\"Paris Saint-Germain Football Club\">Paris SG</a>\n",
      "<a href=\"/wiki/LOSC_Lille\" title=\"LOSC Lille\">LOSC Lille</a>\n",
      "<a href=\"/wiki/Olympique_lyonnais\" title=\"Olympique lyonnais\">Olympique lyonnais</a>\n",
      "<a href=\"/wiki/Association_sportive_de_Saint-%C3%89tienne\" title=\"Association sportive de Saint-Étienne\">AS Saint-Étienne</a>\n"
     ]
    }
   ],
   "source": [
    "for equipe in equipes :\n",
    "    if not equipe.find('img'):\n",
    "        print (equipe)"
   ]
  },
  {
   "cell_type": "markdown",
   "metadata": {},
   "source": [
    "etape 7"
   ]
  },
  {
   "cell_type": "code",
   "execution_count": 56,
   "metadata": {},
   "outputs": [
    {
     "name": "stdout",
     "output_type": "stream",
     "text": [
      "Paris SG\n",
      "/wiki/Paris_Saint-Germain_Football_Club\n",
      "-----\n",
      "LOSC Lille\n",
      "/wiki/LOSC_Lille\n",
      "-----\n",
      "Olympique lyonnais\n",
      "/wiki/Olympique_lyonnais\n",
      "-----\n",
      "AS Saint-Étienne\n",
      "/wiki/Association_sportive_de_Saint-%C3%89tienne\n",
      "-----\n",
      "Olympique deMarseille\n",
      "/wiki/Olympique_de_Marseille\n",
      "-----\n",
      "Montpellier HSC\n",
      "/wiki/Montpellier_H%C3%A9rault_Sport_Club\n",
      "-----\n",
      "Stade de Reims\n",
      "/wiki/Stade_de_Reims\n",
      "-----\n",
      "OGC Nice\n",
      "/wiki/Olympique_Gymnaste_Club_Nice\n",
      "-----\n",
      "Nîmes Olympique\n",
      "/wiki/N%C3%AEmes_Olympique\n",
      "-----\n",
      "RC Strasbourg\n",
      "/wiki/Racing_Club_de_Strasbourg_Alsace\n",
      "-----\n",
      "Stade rennais FC\n",
      "/wiki/Stade_rennais_Football_Club\n",
      "-----\n",
      " SCO d’Angers\n",
      "/wiki/Angers_sporting_club_de_l%27Ouest\n",
      "-----\n",
      "FC Metz\n",
      "/wiki/Football_Club_de_Metz\n",
      "-----\n",
      "FC Nantes\n",
      "/wiki/Football_Club_de_Nantes\n",
      "-----\n",
      "Stade brestois\n",
      "/wiki/Stade_brestois_29\n",
      "-----\n",
      "Girondins de Bordeaux\n",
      "/wiki/Football_Club_des_Girondins_de_Bordeaux\n",
      "-----\n",
      "Toulouse FC\n",
      "/wiki/Toulouse_Football_Club\n",
      "-----\n",
      "Amiens SC\n",
      "/wiki/Amiens_Sporting_Club\n",
      "-----\n",
      "AS Monaco\n",
      "/wiki/Association_sportive_de_Monaco_football_club\n",
      "-----\n",
      "Dijon FCO\n",
      "/wiki/Dijon_Football_C%C3%B4te-d%27Or\n",
      "-----\n"
     ]
    }
   ],
   "source": [
    "equipes = soup.find('table',class_='DebutCarte').findAll('a')\n",
    "for equipe in equipes :\n",
    "    if not equipe.find('img'):\n",
    "        print(equipe.getText())\n",
    "        print(equipe.get('href'))\n",
    "        print ('-----')"
   ]
  },
  {
   "cell_type": "markdown",
   "metadata": {},
   "source": [
    "etape 8"
   ]
  },
  {
   "cell_type": "code",
   "execution_count": 62,
   "metadata": {},
   "outputs": [
    {
     "data": {
      "text/html": [
       "<div>\n",
       "<style scoped>\n",
       "    .dataframe tbody tr th:only-of-type {\n",
       "        vertical-align: middle;\n",
       "    }\n",
       "\n",
       "    .dataframe tbody tr th {\n",
       "        vertical-align: top;\n",
       "    }\n",
       "\n",
       "    .dataframe thead th {\n",
       "        text-align: right;\n",
       "    }\n",
       "</style>\n",
       "<table border=\"1\" class=\"dataframe\">\n",
       "  <thead>\n",
       "    <tr style=\"text-align: right;\">\n",
       "      <th></th>\n",
       "      <th>Club</th>\n",
       "      <th>URL</th>\n",
       "    </tr>\n",
       "  </thead>\n",
       "  <tbody>\n",
       "    <tr>\n",
       "      <th>0</th>\n",
       "      <td>Paris SG</td>\n",
       "      <td>/wiki/Paris_Saint-Germain_Football_Club</td>\n",
       "    </tr>\n",
       "    <tr>\n",
       "      <th>1</th>\n",
       "      <td>LOSC Lille</td>\n",
       "      <td>/wiki/LOSC_Lille</td>\n",
       "    </tr>\n",
       "    <tr>\n",
       "      <th>2</th>\n",
       "      <td>Olympique lyonnais</td>\n",
       "      <td>/wiki/Olympique_lyonnais</td>\n",
       "    </tr>\n",
       "    <tr>\n",
       "      <th>3</th>\n",
       "      <td>AS Saint-Étienne</td>\n",
       "      <td>/wiki/Association_sportive_de_Saint-%C3%89tienne</td>\n",
       "    </tr>\n",
       "    <tr>\n",
       "      <th>4</th>\n",
       "      <td>Olympique deMarseille</td>\n",
       "      <td>/wiki/Olympique_de_Marseille</td>\n",
       "    </tr>\n",
       "  </tbody>\n",
       "</table>\n",
       "</div>"
      ],
      "text/plain": [
       "                    Club                                               URL\n",
       "0               Paris SG           /wiki/Paris_Saint-Germain_Football_Club\n",
       "1             LOSC Lille                                  /wiki/LOSC_Lille\n",
       "2     Olympique lyonnais                          /wiki/Olympique_lyonnais\n",
       "3       AS Saint-Étienne  /wiki/Association_sportive_de_Saint-%C3%89tienne\n",
       "4  Olympique deMarseille                      /wiki/Olympique_de_Marseille"
      ]
     },
     "execution_count": 62,
     "metadata": {},
     "output_type": "execute_result"
    }
   ],
   "source": [
    "import pandas as pd\n",
    "dataFrame = pd.DataFrame(columns=['Club','URL'])\n",
    "\n",
    "for i in equipes:\n",
    "    if i.find('img'):\n",
    "        continue\n",
    "    else :\n",
    "        dataFrame = dataFrame.append({'Club': i.getText(),'URL' : i.get('href')}, ignore_index=True)\n",
    "\n",
    "\n",
    "dataFrame.head()\n",
    "\n"
   ]
  },
  {
   "cell_type": "code",
   "execution_count": 65,
   "metadata": {},
   "outputs": [],
   "source": [
    "dataFrame.to_csv('ClubsLigue1.csv')\n",
    "dataFrame.to_excel('ClubsLigue1.xls')"
   ]
  }
 ],
 "metadata": {
  "interpreter": {
   "hash": "31f2aee4e71d21fbe5cf8b01ff0e069b9275f58929596ceb00d14d90e3e16cd6"
  },
  "kernelspec": {
   "display_name": "Python 3.6.9 64-bit",
   "language": "python",
   "name": "python3"
  },
  "language_info": {
   "codemirror_mode": {
    "name": "ipython",
    "version": 3
   },
   "file_extension": ".py",
   "mimetype": "text/x-python",
   "name": "python",
   "nbconvert_exporter": "python",
   "pygments_lexer": "ipython3",
   "version": "3.6.9"
  },
  "orig_nbformat": 4
 },
 "nbformat": 4,
 "nbformat_minor": 2
}
