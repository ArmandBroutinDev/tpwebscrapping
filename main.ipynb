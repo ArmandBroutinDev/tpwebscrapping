{
 "cells": [
  {
   "cell_type": "markdown",
   "metadata": {},
   "source": [
    "# projet perso de webscrapping\n",
    "site : https://www.pokebip.com/pokedex/pokemon l'objectif est d'iterrer sur chaque pokémon afin de recupérer des infos : types, régions et statistiques"
   ]
  },
  {
   "cell_type": "code",
   "execution_count": 88,
   "metadata": {},
   "outputs": [],
   "source": [
    "import requests\n",
    " \n",
    "url = \"https://www.pokebip.com/pokedex/pokemon\"\n",
    "request_text = requests.get(url)\n",
    "\n",
    "\n",
    "from bs4 import BeautifulSoup\n",
    "\n",
    "soup = BeautifulSoup(request_text.content,\"lxml\")"
   ]
  },
  {
   "cell_type": "code",
   "execution_count": 89,
   "metadata": {},
   "outputs": [
    {
     "name": "stdout",
     "output_type": "stream",
     "text": [
      "1\n"
     ]
    }
   ],
   "source": [
    "tables = soup.findAll('table')\n",
    "print(len(tables))"
   ]
  },
  {
   "cell_type": "code",
   "execution_count": 90,
   "metadata": {},
   "outputs": [],
   "source": [
    "table = soup.find('table')\n",
    "pokemons = table.findAll('a')\n",
    "pkmnUrls = []\n",
    "for pkmn in pokemons :\n",
    "    if not pkmn.attrs.get(\"class\"):\n",
    "        pkmnUrls.append(pkmn.get('href'))"
   ]
  },
  {
   "cell_type": "code",
   "execution_count": 92,
   "metadata": {},
   "outputs": [
    {
     "name": "stdout",
     "output_type": "stream",
     "text": [
      "1074\n"
     ]
    }
   ],
   "source": [
    "print(len(pkmnUrls))"
   ]
  },
  {
   "cell_type": "code",
   "execution_count": 95,
   "metadata": {},
   "outputs": [],
   "source": [
    "for pkmnUrl in pkmnUrls :\n",
    "    request_text2 = requests.get(pkmnUrl)\n",
    "    soup2 = BeautifulSoup(request_text2.content,\"lxml\")\n",
    "    tables2 = soup2.findAll('table')\n",
    "    break"
   ]
  }
 ],
 "metadata": {
  "interpreter": {
   "hash": "31f2aee4e71d21fbe5cf8b01ff0e069b9275f58929596ceb00d14d90e3e16cd6"
  },
  "kernelspec": {
   "display_name": "Python 3.6.9 64-bit",
   "language": "python",
   "name": "python3"
  },
  "language_info": {
   "codemirror_mode": {
    "name": "ipython",
    "version": 3
   },
   "file_extension": ".py",
   "mimetype": "text/x-python",
   "name": "python",
   "nbconvert_exporter": "python",
   "pygments_lexer": "ipython3",
   "version": "3.6.9"
  },
  "orig_nbformat": 4
 },
 "nbformat": 4,
 "nbformat_minor": 2
}
