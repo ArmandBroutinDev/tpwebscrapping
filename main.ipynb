{
 "cells": [
  {
   "cell_type": "markdown",
   "metadata": {},
   "source": [
    "# projet perso de webscrapping\n",
    "site : https://www.pokebip.com/pokedex/pokemon l'objectif est d'iterrer sur chaque pokémon afin de recupérer des infos : types, régions et statistiques"
   ]
  },
  {
   "cell_type": "code",
   "execution_count": 88,
   "metadata": {},
   "outputs": [],
   "source": [
    "import requests\n",
    " \n",
    "url = \"https://www.pokebip.com/pokedex/pokemon\"\n",
    "request_text = requests.get(url)\n",
    "\n",
    "\n",
    "from bs4 import BeautifulSoup\n",
    "\n",
    "soup = BeautifulSoup(request_text.content,\"lxml\")"
   ]
  },
  {
   "cell_type": "code",
   "execution_count": 89,
   "metadata": {},
   "outputs": [
    {
     "name": "stdout",
     "output_type": "stream",
     "text": [
      "1\n"
     ]
    }
   ],
   "source": [
    "tables = soup.findAll('table')\n",
    "print(len(tables))"
   ]
  },
  {
   "cell_type": "markdown",
   "metadata": {},
   "source": [
    "il n'y a qu'un tableau sur la page, et il contient les liens vers chaque pokémon, letsgong"
   ]
  },
  {
   "cell_type": "code",
   "execution_count": 90,
   "metadata": {},
   "outputs": [],
   "source": [
    "table = soup.find('table')\n",
    "pokemons = table.findAll('a')\n",
    "pkmnUrls = []\n",
    "for pkmn in pokemons :\n",
    "    if not pkmn.attrs.get(\"class\"):\n",
    "        pkmnUrls.append(pkmn.get('href'))"
   ]
  },
  {
   "cell_type": "code",
   "execution_count": 92,
   "metadata": {},
   "outputs": [
    {
     "name": "stdout",
     "output_type": "stream",
     "text": [
      "1074\n"
     ]
    }
   ],
   "source": [
    "print(len(pkmnUrls))"
   ]
  },
  {
   "cell_type": "markdown",
   "metadata": {},
   "source": [
    "on a toute la liste des urls qu'il nous faut pour recuperer les données"
   ]
  },
  {
   "cell_type": "code",
   "execution_count": 147,
   "metadata": {},
   "outputs": [],
   "source": [
    "import pandas as pd\n",
    "dataFrame = pd.DataFrame(columns=['Nom','PV','Atk','Def','AtkSpe','DefSpe','Vit'])\n",
    "\n",
    "for pkmnUrl in pkmnUrls :\n",
    "    try:\n",
    "        request_text2 = requests.get(pkmnUrl)\n",
    "        soup2 = BeautifulSoup(request_text2.content,\"lxml\")\n",
    "        table2 = soup2.find('table')\n",
    "        nom = soup2.find('h1').getText(strip=1).split('- ')[0]\n",
    "        stats = table2.findAll('strong')\n",
    "        dataFrame = dataFrame.append({'Nom': nom,'PV' : int(stats[0].getText()),'Atk' : int(stats[1].getText()),'Def' : int(stats[2].getText()),'AtkSpe' : int(stats[3].getText()),'DefSpe' : int(stats[4].getText()),'Vit' : int(stats[5].getText())}, ignore_index=True)\n",
    "    except Exception:\n",
    "        continue"
   ]
  },
  {
   "cell_type": "markdown",
   "metadata": {},
   "source": [
    "on stock tout dans un dataframe qu'on enregistre aussi en fichier"
   ]
  },
  {
   "cell_type": "code",
   "execution_count": 169,
   "metadata": {},
   "outputs": [
    {
     "data": {
      "text/html": [
       "<div>\n",
       "<style scoped>\n",
       "    .dataframe tbody tr th:only-of-type {\n",
       "        vertical-align: middle;\n",
       "    }\n",
       "\n",
       "    .dataframe tbody tr th {\n",
       "        vertical-align: top;\n",
       "    }\n",
       "\n",
       "    .dataframe thead th {\n",
       "        text-align: right;\n",
       "    }\n",
       "</style>\n",
       "<table border=\"1\" class=\"dataframe\">\n",
       "  <thead>\n",
       "    <tr style=\"text-align: right;\">\n",
       "      <th></th>\n",
       "      <th>Nom</th>\n",
       "      <th>PV</th>\n",
       "      <th>Atk</th>\n",
       "      <th>Def</th>\n",
       "      <th>AtkSpe</th>\n",
       "      <th>DefSpe</th>\n",
       "      <th>Vit</th>\n",
       "    </tr>\n",
       "  </thead>\n",
       "  <tbody>\n",
       "    <tr>\n",
       "      <th>0</th>\n",
       "      <td>Bulbizarre</td>\n",
       "      <td>45</td>\n",
       "      <td>49</td>\n",
       "      <td>49</td>\n",
       "      <td>65</td>\n",
       "      <td>65</td>\n",
       "      <td>45</td>\n",
       "    </tr>\n",
       "    <tr>\n",
       "      <th>1</th>\n",
       "      <td>Herbizarre</td>\n",
       "      <td>60</td>\n",
       "      <td>62</td>\n",
       "      <td>63</td>\n",
       "      <td>80</td>\n",
       "      <td>80</td>\n",
       "      <td>60</td>\n",
       "    </tr>\n",
       "    <tr>\n",
       "      <th>2</th>\n",
       "      <td>Florizarre</td>\n",
       "      <td>80</td>\n",
       "      <td>82</td>\n",
       "      <td>83</td>\n",
       "      <td>100</td>\n",
       "      <td>100</td>\n",
       "      <td>80</td>\n",
       "    </tr>\n",
       "    <tr>\n",
       "      <th>3</th>\n",
       "      <td>Méga-Florizarre</td>\n",
       "      <td>80</td>\n",
       "      <td>100</td>\n",
       "      <td>123</td>\n",
       "      <td>122</td>\n",
       "      <td>120</td>\n",
       "      <td>80</td>\n",
       "    </tr>\n",
       "    <tr>\n",
       "      <th>4</th>\n",
       "      <td>Salamèche</td>\n",
       "      <td>39</td>\n",
       "      <td>52</td>\n",
       "      <td>43</td>\n",
       "      <td>60</td>\n",
       "      <td>50</td>\n",
       "      <td>65</td>\n",
       "    </tr>\n",
       "  </tbody>\n",
       "</table>\n",
       "</div>"
      ],
      "text/plain": [
       "               Nom  PV  Atk  Def AtkSpe DefSpe Vit\n",
       "0       Bulbizarre  45   49   49     65     65  45\n",
       "1       Herbizarre  60   62   63     80     80  60\n",
       "2       Florizarre  80   82   83    100    100  80\n",
       "3  Méga-Florizarre  80  100  123    122    120  80\n",
       "4        Salamèche  39   52   43     60     50  65"
      ]
     },
     "execution_count": 169,
     "metadata": {},
     "output_type": "execute_result"
    }
   ],
   "source": [
    "dataFrame.to_csv('StatsPokemons.csv')\n",
    "dataFrame.to_excel('StatsPokemons.xls')\n",
    "dataFrame.head()"
   ]
  },
  {
   "cell_type": "markdown",
   "metadata": {},
   "source": [
    "Je fais un test pour acceder à la liste des 10 meilleurs pokémons en fonction de leur attaque"
   ]
  },
  {
   "cell_type": "code",
   "execution_count": 187,
   "metadata": {},
   "outputs": [
    {
     "data": {
      "image/png": "[encoded data removed]",
      "text/plain": [
       "<Figure size 1584x360 with 1 Axes>"
      ]
     },
     "metadata": {
      "needs_background": "light"
     },
     "output_type": "display_data"
    },
    {
     "data": {
      "text/html": [
       "<div>\n",
       "<style scoped>\n",
       "    .dataframe tbody tr th:only-of-type {\n",
       "        vertical-align: middle;\n",
       "    }\n",
       "\n",
       "    .dataframe tbody tr th {\n",
       "        vertical-align: top;\n",
       "    }\n",
       "\n",
       "    .dataframe thead th {\n",
       "        text-align: right;\n",
       "    }\n",
       "</style>\n",
       "<table border=\"1\" class=\"dataframe\">\n",
       "  <thead>\n",
       "    <tr style=\"text-align: right;\">\n",
       "      <th></th>\n",
       "      <th>Nom</th>\n",
       "      <th>PV</th>\n",
       "      <th>Atk</th>\n",
       "      <th>Def</th>\n",
       "      <th>AtkSpe</th>\n",
       "      <th>DefSpe</th>\n",
       "      <th>Vit</th>\n",
       "    </tr>\n",
       "  </thead>\n",
       "  <tbody>\n",
       "    <tr>\n",
       "      <th>192</th>\n",
       "      <td>Méga-Mewtwo X</td>\n",
       "      <td>106</td>\n",
       "      <td>190</td>\n",
       "      <td>100</td>\n",
       "      <td>154</td>\n",
       "      <td>100</td>\n",
       "      <td>130</td>\n",
       "    </tr>\n",
       "    <tr>\n",
       "      <th>262</th>\n",
       "      <td>Méga-Scarhino</td>\n",
       "      <td>80</td>\n",
       "      <td>185</td>\n",
       "      <td>115</td>\n",
       "      <td>40</td>\n",
       "      <td>105</td>\n",
       "      <td>75</td>\n",
       "    </tr>\n",
       "    <tr>\n",
       "      <th>960</th>\n",
       "      <td>Katagami</td>\n",
       "      <td>59</td>\n",
       "      <td>181</td>\n",
       "      <td>131</td>\n",
       "      <td>59</td>\n",
       "      <td>31</td>\n",
       "      <td>109</td>\n",
       "    </tr>\n",
       "    <tr>\n",
       "      <th>464</th>\n",
       "      <td>Deoxys Forme Attaque</td>\n",
       "      <td>50</td>\n",
       "      <td>180</td>\n",
       "      <td>20</td>\n",
       "      <td>180</td>\n",
       "      <td>20</td>\n",
       "      <td>150</td>\n",
       "    </tr>\n",
       "    <tr>\n",
       "      <th>459</th>\n",
       "      <td>Primo-Groudon</td>\n",
       "      <td>100</td>\n",
       "      <td>180</td>\n",
       "      <td>160</td>\n",
       "      <td>150</td>\n",
       "      <td>90</td>\n",
       "      <td>90</td>\n",
       "    </tr>\n",
       "    <tr>\n",
       "      <th>461</th>\n",
       "      <td>Méga-Rayquaza</td>\n",
       "      <td>105</td>\n",
       "      <td>180</td>\n",
       "      <td>100</td>\n",
       "      <td>180</td>\n",
       "      <td>100</td>\n",
       "      <td>115</td>\n",
       "    </tr>\n",
       "    <tr>\n",
       "      <th>529</th>\n",
       "      <td>Méga-Carchacrok</td>\n",
       "      <td>108</td>\n",
       "      <td>170</td>\n",
       "      <td>115</td>\n",
       "      <td>120</td>\n",
       "      <td>95</td>\n",
       "      <td>92</td>\n",
       "    </tr>\n",
       "    <tr>\n",
       "      <th>769</th>\n",
       "      <td>Kyurem Noir</td>\n",
       "      <td>125</td>\n",
       "      <td>170</td>\n",
       "      <td>100</td>\n",
       "      <td>120</td>\n",
       "      <td>90</td>\n",
       "      <td>95</td>\n",
       "    </tr>\n",
       "    <tr>\n",
       "      <th>1057</th>\n",
       "      <td>Zacian Épée Suprême</td>\n",
       "      <td>92</td>\n",
       "      <td>170</td>\n",
       "      <td>115</td>\n",
       "      <td>80</td>\n",
       "      <td>115</td>\n",
       "      <td>148</td>\n",
       "    </tr>\n",
       "    <tr>\n",
       "      <th>965</th>\n",
       "      <td>Ultra-Necrozma</td>\n",
       "      <td>97</td>\n",
       "      <td>167</td>\n",
       "      <td>97</td>\n",
       "      <td>167</td>\n",
       "      <td>97</td>\n",
       "      <td>129</td>\n",
       "    </tr>\n",
       "  </tbody>\n",
       "</table>\n",
       "</div>"
      ],
      "text/plain": [
       "                       Nom   PV  Atk  Def AtkSpe DefSpe  Vit\n",
       "192          Méga-Mewtwo X  106  190  100    154    100  130\n",
       "262          Méga-Scarhino   80  185  115     40    105   75\n",
       "960               Katagami   59  181  131     59     31  109\n",
       "464   Deoxys Forme Attaque   50  180   20    180     20  150\n",
       "459          Primo-Groudon  100  180  160    150     90   90\n",
       "461          Méga-Rayquaza  105  180  100    180    100  115\n",
       "529        Méga-Carchacrok  108  170  115    120     95   92\n",
       "769            Kyurem Noir  125  170  100    120     90   95\n",
       "1057   Zacian Épée Suprême   92  170  115     80    115  148\n",
       "965         Ultra-Necrozma   97  167   97    167     97  129"
      ]
     },
     "execution_count": 187,
     "metadata": {},
     "output_type": "execute_result"
    }
   ],
   "source": [
    "import matplotlib.pyplot as plot\n",
    "import numpy as np\n",
    "\n",
    "dataFrame = dataFrame.sort_values(by=[\"Atk\"] ,ascending=False)\n",
    "dataFrame[:10].plot.bar(x=\"Nom\", y=[\"PV\",\"Atk\",\"Def\",\"AtkSpe\",\"DefSpe\",\"Vit\"], rot=70, title=\"stats\",figsize=(22,5))\n",
    "plot.show(block=True)\n",
    "dataFrame.head(10)\n",
    "\n"
   ]
  }
 ],
 "metadata": {
  "interpreter": {
   "hash": "31f2aee4e71d21fbe5cf8b01ff0e069b9275f58929596ceb00d14d90e3e16cd6"
  },
  "kernelspec": {
   "display_name": "Python 3.6.9 64-bit",
   "language": "python",
   "name": "python3"
  },
  "language_info": {
   "codemirror_mode": {
    "name": "ipython",
    "version": 3
   },
   "file_extension": ".py",
   "mimetype": "text/x-python",
   "name": "python",
   "nbconvert_exporter": "python",
   "pygments_lexer": "ipython3",
   "version": "3.6.9"
  },
  "orig_nbformat": 4
 },
 "nbformat": 4,
 "nbformat_minor": 2
}
